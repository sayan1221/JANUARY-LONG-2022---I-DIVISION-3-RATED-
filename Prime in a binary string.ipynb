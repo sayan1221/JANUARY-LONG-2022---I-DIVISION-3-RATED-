{
 "cells": [
  {
   "cell_type": "code",
   "execution_count": 9,
   "id": "465e529c",
   "metadata": {},
   "outputs": [
    {
     "name": "stdout",
     "output_type": "stream",
     "text": [
      "3\n",
      "1\n",
      "NO\n",
      "111\n",
      "YES\n",
      "101101\n",
      "YES\n"
     ]
    }
   ],
   "source": [
    "for _ in range(int(input())):\n",
    "    x=str(input())\n",
    "    if(len(x)==1):\n",
    "        print(\"NO\")\n",
    "    elif('10' in x):\n",
    "        print(\"YES\")\n",
    "    elif('11' in x):\n",
    "        print(\"YES\")\n",
    "    else:\n",
    "        print(\"NO\")"
   ]
  },
  {
   "cell_type": "code",
   "execution_count": null,
   "id": "0867ff2b",
   "metadata": {},
   "outputs": [],
   "source": []
  }
 ],
 "metadata": {
  "kernelspec": {
   "display_name": "Python 3",
   "language": "python",
   "name": "python3"
  },
  "language_info": {
   "codemirror_mode": {
    "name": "ipython",
    "version": 3
   },
   "file_extension": ".py",
   "mimetype": "text/x-python",
   "name": "python",
   "nbconvert_exporter": "python",
   "pygments_lexer": "ipython3",
   "version": "3.8.8"
  }
 },
 "nbformat": 4,
 "nbformat_minor": 5
}
