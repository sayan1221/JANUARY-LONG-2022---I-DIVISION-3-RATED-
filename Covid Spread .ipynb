{
 "cells": [
  {
   "cell_type": "code",
   "execution_count": 3,
   "id": "ba3aec57",
   "metadata": {},
   "outputs": [
    {
     "name": "stdout",
     "output_type": "stream",
     "text": [
      "4\n",
      "100 3\n",
      "8\n",
      "2000 10\n",
      "1024\n",
      "6000 11\n",
      "3072\n",
      "10 11\n",
      "10\n"
     ]
    }
   ],
   "source": [
    "def cal(a,b):\n",
    "    s=0\n",
    "    for i in range(b+1):\n",
    "        if(i<11):\n",
    "            s=(2**i)\n",
    "        else:\n",
    "            s=(3*s)\n",
    "    return s\n",
    "\n",
    "for _ in range(int(input())):\n",
    "    a,b=map(int,input().split())\n",
    "    x=cal(a,b)\n",
    "    print(min(x,a))"
   ]
  },
  {
   "cell_type": "code",
   "execution_count": 10,
   "id": "11aa3c9b",
   "metadata": {},
   "outputs": [
    {
     "name": "stdout",
     "output_type": "stream",
     "text": [
      "4\n",
      "100 3\n",
      "8\n",
      "2000 10\n",
      "1024\n",
      "6000 11\n",
      "3072\n",
      "10 11\n",
      "10\n"
     ]
    }
   ],
   "source": [
    "for _ in range(int(input())):\n",
    "    a,b=map(int,input().split())\n",
    "    s=0\n",
    "    if(b<11):\n",
    "        s=(2**b)\n",
    "    else:\n",
    "        x=1024\n",
    "        s=(3*x)\n",
    "    print(min(s,a))"
   ]
  },
  {
   "cell_type": "code",
   "execution_count": 12,
   "id": "d2d949e4",
   "metadata": {},
   "outputs": [
    {
     "name": "stdout",
     "output_type": "stream",
     "text": [
      "4\n",
      "100 3\n",
      "8\n",
      "2000 10\n",
      "1024\n",
      "6000 11\n",
      "3072\n",
      "10 11\n",
      "10\n"
     ]
    }
   ],
   "source": [
    "for _ in range(int(input())):\n",
    "    a,b=map(int,input().split())\n",
    "    s=0\n",
    "    for i in range(b+1):\n",
    "        if(i<11):\n",
    "            s=(2**i)\n",
    "        else:\n",
    "            s=(3*s)\n",
    "    print(min(s,a))"
   ]
  },
  {
   "cell_type": "code",
   "execution_count": 22,
   "id": "6c7a3160",
   "metadata": {},
   "outputs": [
    {
     "name": "stdout",
     "output_type": "stream",
     "text": [
      "4\n",
      "100 3\n",
      "8\n",
      "2000 10\n",
      "1024\n",
      "6000 11\n",
      "3072\n",
      "10 11\n",
      "10\n"
     ]
    }
   ],
   "source": [
    "for _ in range(int(input())):\n",
    "    a,b=map(int,input().split())\n",
    "    if(b<=10):\n",
    "        s=(2**b)\n",
    "    elif(b<=20):\n",
    "        s=1024 * (3**(b-10))\n",
    "    print(min(s,a))"
   ]
  },
  {
   "cell_type": "code",
   "execution_count": null,
   "id": "25fa9db7",
   "metadata": {},
   "outputs": [],
   "source": []
  }
 ],
 "metadata": {
  "kernelspec": {
   "display_name": "Python 3",
   "language": "python",
   "name": "python3"
  },
  "language_info": {
   "codemirror_mode": {
    "name": "ipython",
    "version": 3
   },
   "file_extension": ".py",
   "mimetype": "text/x-python",
   "name": "python",
   "nbconvert_exporter": "python",
   "pygments_lexer": "ipython3",
   "version": "3.8.8"
  }
 },
 "nbformat": 4,
 "nbformat_minor": 5
}
